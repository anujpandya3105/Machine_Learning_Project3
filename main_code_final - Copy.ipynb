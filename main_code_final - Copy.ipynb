{
 "cells": [
  {
   "cell_type": "markdown",
   "metadata": {},
   "source": [
    "#### Import Libraries"
   ]
  },
  {
   "cell_type": "code",
   "execution_count": 1,
   "metadata": {},
   "outputs": [],
   "source": [
    "import pandas as pd\n",
    "import urllib\n",
    "import json\n",
    "import sqlite3\n",
    "from sklearn.model_selection import train_test_split\n",
    "from sklearn.linear_model import LinearRegression\n",
    "from sklearn.tree import DecisionTreeRegressor\n",
    "from sklearn.metrics import r2_score\n",
    "import matplotlib.pyplot as plt\n",
    "import numpy as np"
   ]
  },
  {
   "cell_type": "markdown",
   "metadata": {},
   "source": [
    "#### Create Connection to SQLLite database"
   ]
  },
  {
   "cell_type": "code",
   "execution_count": 4,
   "metadata": {},
   "outputs": [],
   "source": [
    "conn = sqlite3.connect('ml_project_final.db')"
   ]
  },
  {
   "cell_type": "markdown",
   "metadata": {},
   "source": [
    "#### POVERTY"
   ]
  },
  {
   "cell_type": "code",
   "execution_count": 5,
   "metadata": {},
   "outputs": [],
   "source": [
    "poverty_url = 'https://api.census.gov/data/timeseries/poverty/saipe?get=NAME,SAEPOVRTALL_PT,SAEPOVALL_PT&for=county:*&time=2008'\n",
    "poverty_txt = urllib.request.urlopen(poverty_url).read() \n",
    "\n",
    "poverty_list = json.loads(poverty_txt)\n",
    "poverty_list\n",
    "poverty_df2008 = pd.DataFrame(poverty_list[1:], columns=poverty_list[0]) \n"
   ]
  },
  {
   "cell_type": "code",
   "execution_count": 6,
   "metadata": {},
   "outputs": [],
   "source": [
    "poverty_url = 'https://api.census.gov/data/timeseries/poverty/saipe?get=NAME,SAEPOVRTALL_PT,SAEPOVALL_PT&for=county:*&time=2009'\n",
    "poverty_txt = urllib.request.urlopen(poverty_url).read() \n",
    "\n",
    "poverty_list = json.loads(poverty_txt)\n",
    "poverty_list\n",
    "poverty_df2009 = pd.DataFrame(poverty_list[1:], columns=poverty_list[0]) \n"
   ]
  },
  {
   "cell_type": "code",
   "execution_count": 7,
   "metadata": {},
   "outputs": [],
   "source": [
    "poverty_url = 'https://api.census.gov/data/timeseries/poverty/saipe?get=NAME,SAEPOVRTALL_PT,SAEPOVALL_PT&for=county:*&time=2010'\n",
    "poverty_txt = urllib.request.urlopen(poverty_url).read() \n",
    "\n",
    "poverty_list = json.loads(poverty_txt)\n",
    "poverty_list\n",
    "poverty_df2010 = pd.DataFrame(poverty_list[1:], columns=poverty_list[0]) \n"
   ]
  },
  {
   "cell_type": "code",
   "execution_count": 8,
   "metadata": {},
   "outputs": [],
   "source": [
    "poverty_url = 'https://api.census.gov/data/timeseries/poverty/saipe?get=NAME,SAEPOVRTALL_PT,SAEPOVALL_PT&for=county:*&time=2011'\n",
    "poverty_txt = urllib.request.urlopen(poverty_url).read() \n",
    "\n",
    "poverty_list = json.loads(poverty_txt)\n",
    "poverty_list\n",
    "poverty_df2011 = pd.DataFrame(poverty_list[1:], columns=poverty_list[0]) \n"
   ]
  },
  {
   "cell_type": "code",
   "execution_count": 9,
   "metadata": {},
   "outputs": [],
   "source": [
    "poverty_url = 'https://api.census.gov/data/timeseries/poverty/saipe?get=NAME,SAEPOVRTALL_PT,SAEPOVALL_PT&for=county:*&time=2012'\n",
    "poverty_txt = urllib.request.urlopen(poverty_url).read() \n",
    "\n",
    "poverty_list = json.loads(poverty_txt)\n",
    "poverty_list\n",
    "poverty_df2012 = pd.DataFrame(poverty_list[1:], columns=poverty_list[0]) \n"
   ]
  },
  {
   "cell_type": "code",
   "execution_count": 10,
   "metadata": {},
   "outputs": [],
   "source": [
    "poverty_url = 'https://api.census.gov/data/timeseries/poverty/saipe?get=NAME,SAEPOVRTALL_PT,SAEPOVALL_PT&for=county:*&time=2013'\n",
    "poverty_txt = urllib.request.urlopen(poverty_url).read() \n",
    "\n",
    "poverty_list = json.loads(poverty_txt)\n",
    "poverty_list\n",
    "poverty_df2013 = pd.DataFrame(poverty_list[1:], columns=poverty_list[0]) "
   ]
  },
  {
   "cell_type": "code",
   "execution_count": 11,
   "metadata": {},
   "outputs": [],
   "source": [
    "poverty_url = 'https://api.census.gov/data/timeseries/poverty/saipe?get=NAME,SAEPOVRTALL_PT,SAEPOVALL_PT&for=county:*&time=2014'\n",
    "poverty_txt = urllib.request.urlopen(poverty_url).read() \n",
    "\n",
    "poverty_list = json.loads(poverty_txt)\n",
    "poverty_list\n",
    "poverty_df2014 = pd.DataFrame(poverty_list[1:], columns=poverty_list[0]) "
   ]
  },
  {
   "cell_type": "code",
   "execution_count": 12,
   "metadata": {},
   "outputs": [],
   "source": [
    "poverty_url = 'https://api.census.gov/data/timeseries/poverty/saipe?get=NAME,SAEPOVRTALL_PT,SAEPOVALL_PT&for=county:*&time=2015'\n",
    "poverty_txt = urllib.request.urlopen(poverty_url).read() \n",
    "\n",
    "poverty_list = json.loads(poverty_txt)\n",
    "poverty_list\n",
    "poverty_df2015 = pd.DataFrame(poverty_list[1:], columns=poverty_list[0]) "
   ]
  },
  {
   "cell_type": "code",
   "execution_count": 13,
   "metadata": {},
   "outputs": [],
   "source": [
    "poverty_url = 'https://api.census.gov/data/timeseries/poverty/saipe?get=NAME,SAEPOVRTALL_PT,SAEPOVALL_PT&for=county:*&time=2016'\n",
    "poverty_txt = urllib.request.urlopen(poverty_url).read() \n",
    "\n",
    "poverty_list = json.loads(poverty_txt)\n",
    "poverty_list\n",
    "poverty_df2016 = pd.DataFrame(poverty_list[1:], columns=poverty_list[0]) "
   ]
  },
  {
   "cell_type": "code",
   "execution_count": 32,
   "metadata": {},
   "outputs": [],
   "source": [
    "poverty_final_df = pd.concat([poverty_df2008, poverty_df2009, poverty_df2010, poverty_df2011, poverty_df2012, poverty_df2013, poverty_df2014, poverty_df2015, poverty_df2016])\n",
    "poverty_final_df.head(5)\n",
    "poverty_final_df.shape\n",
    "poverty_final_df.to_csv('poverty_final.csv')"
   ]
  },
  {
   "cell_type": "markdown",
   "metadata": {},
   "source": [
    "#### HEALTH"
   ]
  },
  {
   "cell_type": "code",
   "execution_count": 17,
   "metadata": {
    "scrolled": true
   },
   "outputs": [
    {
     "data": {
      "text/plain": [
       "(3142, 6)"
      ]
     },
     "execution_count": 17,
     "metadata": {},
     "output_type": "execute_result"
    }
   ],
   "source": [
    "health_url = 'https://api.census.gov/data/timeseries/healthins/sahie?get=NIC_PT,NAME,NUI_PT&for=county:*&time=2008'\n",
    "health_txt = urllib.request.urlopen(health_url).read() \n",
    "\n",
    "health_list = json.loads(health_txt)\n",
    "\n",
    "health_df2008 = pd.DataFrame(health_list[1:], columns=health_list[0]) \n",
    "health_df2008.shape"
   ]
  },
  {
   "cell_type": "code",
   "execution_count": 18,
   "metadata": {},
   "outputs": [
    {
     "data": {
      "text/plain": [
       "(3143, 6)"
      ]
     },
     "execution_count": 18,
     "metadata": {},
     "output_type": "execute_result"
    }
   ],
   "source": [
    "health_url = 'https://api.census.gov/data/timeseries/healthins/sahie?get=NIC_PT,NAME,NUI_PT&for=county:*&time=2009'\n",
    "health_txt = urllib.request.urlopen(health_url).read() \n",
    "\n",
    "health_list = json.loads(health_txt)\n",
    "\n",
    "health_df2009 = pd.DataFrame(health_list[1:], columns=health_list[0]) \n",
    "health_df2009.shape"
   ]
  },
  {
   "cell_type": "code",
   "execution_count": 19,
   "metadata": {},
   "outputs": [
    {
     "data": {
      "text/plain": [
       "(3143, 6)"
      ]
     },
     "execution_count": 19,
     "metadata": {},
     "output_type": "execute_result"
    }
   ],
   "source": [
    "health_url = 'https://api.census.gov/data/timeseries/healthins/sahie?get=NIC_PT,NAME,NUI_PT&for=county:*&time=2010'\n",
    "health_txt = urllib.request.urlopen(health_url).read() \n",
    "\n",
    "health_list = json.loads(health_txt)\n",
    "\n",
    "health_df2010 = pd.DataFrame(health_list[1:], columns=health_list[0]) \n",
    "health_df2010.shape"
   ]
  },
  {
   "cell_type": "code",
   "execution_count": 20,
   "metadata": {},
   "outputs": [
    {
     "data": {
      "text/plain": [
       "(3143, 6)"
      ]
     },
     "execution_count": 20,
     "metadata": {},
     "output_type": "execute_result"
    }
   ],
   "source": [
    "health_url = 'https://api.census.gov/data/timeseries/healthins/sahie?get=NIC_PT,NAME,NUI_PT&for=county:*&time=2011'\n",
    "health_txt = urllib.request.urlopen(health_url).read() \n",
    "\n",
    "health_list = json.loads(health_txt)\n",
    "\n",
    "health_df2011 = pd.DataFrame(health_list[1:], columns=health_list[0]) \n",
    "health_df2011.shape"
   ]
  },
  {
   "cell_type": "code",
   "execution_count": 21,
   "metadata": {},
   "outputs": [
    {
     "data": {
      "text/plain": [
       "(3143, 6)"
      ]
     },
     "execution_count": 21,
     "metadata": {},
     "output_type": "execute_result"
    }
   ],
   "source": [
    "health_url = 'https://api.census.gov/data/timeseries/healthins/sahie?get=NIC_PT,NAME,NUI_PT&for=county:*&time=2012'\n",
    "health_txt = urllib.request.urlopen(health_url).read() \n",
    "\n",
    "health_list = json.loads(health_txt)\n",
    "\n",
    "health_df2012 = pd.DataFrame(health_list[1:], columns=health_list[0]) \n",
    "health_df2012.shape"
   ]
  },
  {
   "cell_type": "code",
   "execution_count": 22,
   "metadata": {},
   "outputs": [
    {
     "data": {
      "text/plain": [
       "(3143, 6)"
      ]
     },
     "execution_count": 22,
     "metadata": {},
     "output_type": "execute_result"
    }
   ],
   "source": [
    "health_url = 'https://api.census.gov/data/timeseries/healthins/sahie?get=NIC_PT,NAME,NUI_PT&for=county:*&time=2013'\n",
    "health_txt = urllib.request.urlopen(health_url).read() \n",
    "\n",
    "health_list = json.loads(health_txt)\n",
    "\n",
    "health_df2013 = pd.DataFrame(health_list[1:], columns=health_list[0]) \n",
    "health_df2013.shape"
   ]
  },
  {
   "cell_type": "code",
   "execution_count": 23,
   "metadata": {},
   "outputs": [
    {
     "data": {
      "text/plain": [
       "(3142, 6)"
      ]
     },
     "execution_count": 23,
     "metadata": {},
     "output_type": "execute_result"
    }
   ],
   "source": [
    "health_url = 'https://api.census.gov/data/timeseries/healthins/sahie?get=NIC_PT,NAME,NUI_PT&for=county:*&time=2014'\n",
    "health_txt = urllib.request.urlopen(health_url).read() \n",
    "\n",
    "health_list = json.loads(health_txt)\n",
    "\n",
    "health_df2014 = pd.DataFrame(health_list[1:], columns=health_list[0]) \n",
    "health_df2014.shape"
   ]
  },
  {
   "cell_type": "code",
   "execution_count": 24,
   "metadata": {},
   "outputs": [
    {
     "data": {
      "text/plain": [
       "(3142, 6)"
      ]
     },
     "execution_count": 24,
     "metadata": {},
     "output_type": "execute_result"
    }
   ],
   "source": [
    "health_url = 'https://api.census.gov/data/timeseries/healthins/sahie?get=NIC_PT,NAME,NUI_PT&for=county:*&time=2015'\n",
    "health_txt = urllib.request.urlopen(health_url).read() \n",
    "\n",
    "health_list = json.loads(health_txt)\n",
    "\n",
    "health_df2015 = pd.DataFrame(health_list[1:], columns=health_list[0]) \n",
    "health_df2015.shape"
   ]
  },
  {
   "cell_type": "code",
   "execution_count": 25,
   "metadata": {},
   "outputs": [
    {
     "data": {
      "text/plain": [
       "(3142, 6)"
      ]
     },
     "execution_count": 25,
     "metadata": {},
     "output_type": "execute_result"
    }
   ],
   "source": [
    "health_url = 'https://api.census.gov/data/timeseries/healthins/sahie?get=NIC_PT,NAME,NUI_PT&for=county:*&time=2016'\n",
    "health_txt = urllib.request.urlopen(health_url).read() \n",
    "\n",
    "health_list = json.loads(health_txt)\n",
    "\n",
    "health_df2016 = pd.DataFrame(health_list[1:], columns=health_list[0]) \n",
    "health_df2016.shape"
   ]
  },
  {
   "cell_type": "code",
   "execution_count": 33,
   "metadata": {},
   "outputs": [],
   "source": [
    "final_health_df = pd.concat([health_df2008,health_df2009,health_df2010,health_df2011,health_df2012,health_df2013,health_df2014,health_df2015,health_df2016])\n",
    "final_health_df.head(5)\n",
    "final_health_df.shape\n",
    "final_health_df.to_csv('health_final.csv')"
   ]
  },
  {
   "cell_type": "markdown",
   "metadata": {},
   "source": [
    "#### Joining Health and Poverty dataframes to produce ONE data set"
   ]
  },
  {
   "cell_type": "code",
   "execution_count": 41,
   "metadata": {},
   "outputs": [],
   "source": [
    "fulldata = pd.merge(left=final_health_df, right=poverty_final_df.iloc[:,[1,2,3,4,5]], on=['state', 'county', 'time'], how='inner')\n",
    "fulldata.head()\n",
    "fulldata.shape\n",
    "fulldata['State'] = fulldata['NAME'].apply(lambda State: State.split(',')[-1])\n",
    "fulldata['County'] = fulldata['NAME'].apply(lambda State: State.split(',')[0])\n",
    "fulldata.head(5)\n",
    "\n",
    "fulldata.to_csv('fulldata1.csv')"
   ]
  },
  {
   "cell_type": "markdown",
   "metadata": {},
   "source": [
    "#### Cleaning Up the dataset"
   ]
  },
  {
   "cell_type": "code",
   "execution_count": 43,
   "metadata": {},
   "outputs": [
    {
     "data": {
      "text/html": [
       "<div>\n",
       "<style scoped>\n",
       "    .dataframe tbody tr th:only-of-type {\n",
       "        vertical-align: middle;\n",
       "    }\n",
       "\n",
       "    .dataframe tbody tr th {\n",
       "        vertical-align: top;\n",
       "    }\n",
       "\n",
       "    .dataframe thead th {\n",
       "        text-align: right;\n",
       "    }\n",
       "</style>\n",
       "<table border=\"1\" class=\"dataframe\">\n",
       "  <thead>\n",
       "    <tr style=\"text-align: right;\">\n",
       "      <th></th>\n",
       "      <th>NIC_PT</th>\n",
       "      <th>NAME</th>\n",
       "      <th>NUI_PT</th>\n",
       "      <th>time</th>\n",
       "      <th>state</th>\n",
       "      <th>county</th>\n",
       "      <th>SAEPOVRTALL_PT</th>\n",
       "      <th>SAEPOVALL_PT</th>\n",
       "      <th>State</th>\n",
       "      <th>County</th>\n",
       "    </tr>\n",
       "  </thead>\n",
       "  <tbody>\n",
       "    <tr>\n",
       "      <th>0</th>\n",
       "      <td>38474</td>\n",
       "      <td>Autauga County, AL</td>\n",
       "      <td>5880</td>\n",
       "      <td>2008</td>\n",
       "      <td>01</td>\n",
       "      <td>001</td>\n",
       "      <td>10.7</td>\n",
       "      <td>5366</td>\n",
       "      <td>AL</td>\n",
       "      <td>Autauga County</td>\n",
       "    </tr>\n",
       "    <tr>\n",
       "      <th>1</th>\n",
       "      <td>120301</td>\n",
       "      <td>Baldwin County, AL</td>\n",
       "      <td>23631</td>\n",
       "      <td>2008</td>\n",
       "      <td>01</td>\n",
       "      <td>003</td>\n",
       "      <td>9.9</td>\n",
       "      <td>17110</td>\n",
       "      <td>AL</td>\n",
       "      <td>Baldwin County</td>\n",
       "    </tr>\n",
       "    <tr>\n",
       "      <th>2</th>\n",
       "      <td>18370</td>\n",
       "      <td>Barbour County, AL</td>\n",
       "      <td>3934</td>\n",
       "      <td>2008</td>\n",
       "      <td>01</td>\n",
       "      <td>005</td>\n",
       "      <td>24.5</td>\n",
       "      <td>6399</td>\n",
       "      <td>AL</td>\n",
       "      <td>Barbour County</td>\n",
       "    </tr>\n",
       "    <tr>\n",
       "      <th>3</th>\n",
       "      <td>14321</td>\n",
       "      <td>Bibb County, AL</td>\n",
       "      <td>3147</td>\n",
       "      <td>2008</td>\n",
       "      <td>01</td>\n",
       "      <td>007</td>\n",
       "      <td>18.5</td>\n",
       "      <td>3753</td>\n",
       "      <td>AL</td>\n",
       "      <td>Bibb County</td>\n",
       "    </tr>\n",
       "    <tr>\n",
       "      <th>4</th>\n",
       "      <td>39426</td>\n",
       "      <td>Blount County, AL</td>\n",
       "      <td>9482</td>\n",
       "      <td>2008</td>\n",
       "      <td>01</td>\n",
       "      <td>009</td>\n",
       "      <td>13.1</td>\n",
       "      <td>7461</td>\n",
       "      <td>AL</td>\n",
       "      <td>Blount County</td>\n",
       "    </tr>\n",
       "  </tbody>\n",
       "</table>\n",
       "</div>"
      ],
      "text/plain": [
       "   NIC_PT                NAME NUI_PT  time state county SAEPOVRTALL_PT  \\\n",
       "0   38474  Autauga County, AL   5880  2008    01    001           10.7   \n",
       "1  120301  Baldwin County, AL  23631  2008    01    003            9.9   \n",
       "2   18370  Barbour County, AL   3934  2008    01    005           24.5   \n",
       "3   14321     Bibb County, AL   3147  2008    01    007           18.5   \n",
       "4   39426   Blount County, AL   9482  2008    01    009           13.1   \n",
       "\n",
       "  SAEPOVALL_PT State          County  \n",
       "0         5366    AL  Autauga County  \n",
       "1        17110    AL  Baldwin County  \n",
       "2         6399    AL  Barbour County  \n",
       "3         3753    AL     Bibb County  \n",
       "4         7461    AL   Blount County  "
      ]
     },
     "execution_count": 43,
     "metadata": {},
     "output_type": "execute_result"
    }
   ],
   "source": [
    "fulldata = fulldata[(fulldata == \"N/A\").sum(axis=1) == 0].copy()\n",
    "fulldata.to_csv('full_data_final.csv')\n",
    "fulldata.head()"
   ]
  },
  {
   "cell_type": "markdown",
   "metadata": {},
   "source": [
    "#### Converting some data points to FLOAT for calculations"
   ]
  },
  {
   "cell_type": "code",
   "execution_count": 46,
   "metadata": {},
   "outputs": [
    {
     "data": {
      "text/html": [
       "<div>\n",
       "<style scoped>\n",
       "    .dataframe tbody tr th:only-of-type {\n",
       "        vertical-align: middle;\n",
       "    }\n",
       "\n",
       "    .dataframe tbody tr th {\n",
       "        vertical-align: top;\n",
       "    }\n",
       "\n",
       "    .dataframe thead th {\n",
       "        text-align: right;\n",
       "    }\n",
       "</style>\n",
       "<table border=\"1\" class=\"dataframe\">\n",
       "  <thead>\n",
       "    <tr style=\"text-align: right;\">\n",
       "      <th></th>\n",
       "      <th>NIC_PT</th>\n",
       "      <th>NUI_PT</th>\n",
       "      <th>SAEPOVRTALL_PT</th>\n",
       "    </tr>\n",
       "  </thead>\n",
       "  <tbody>\n",
       "    <tr>\n",
       "      <th>0</th>\n",
       "      <td>38474.0</td>\n",
       "      <td>5880.0</td>\n",
       "      <td>10.7</td>\n",
       "    </tr>\n",
       "    <tr>\n",
       "      <th>1</th>\n",
       "      <td>120301.0</td>\n",
       "      <td>23631.0</td>\n",
       "      <td>9.9</td>\n",
       "    </tr>\n",
       "    <tr>\n",
       "      <th>2</th>\n",
       "      <td>18370.0</td>\n",
       "      <td>3934.0</td>\n",
       "      <td>24.5</td>\n",
       "    </tr>\n",
       "    <tr>\n",
       "      <th>3</th>\n",
       "      <td>14321.0</td>\n",
       "      <td>3147.0</td>\n",
       "      <td>18.5</td>\n",
       "    </tr>\n",
       "    <tr>\n",
       "      <th>4</th>\n",
       "      <td>39426.0</td>\n",
       "      <td>9482.0</td>\n",
       "      <td>13.1</td>\n",
       "    </tr>\n",
       "  </tbody>\n",
       "</table>\n",
       "</div>"
      ],
      "text/plain": [
       "     NIC_PT   NUI_PT  SAEPOVRTALL_PT\n",
       "0   38474.0   5880.0            10.7\n",
       "1  120301.0  23631.0             9.9\n",
       "2   18370.0   3934.0            24.5\n",
       "3   14321.0   3147.0            18.5\n",
       "4   39426.0   9482.0            13.1"
      ]
     },
     "execution_count": 46,
     "metadata": {},
     "output_type": "execute_result"
    }
   ],
   "source": [
    "mydata = fulldata.iloc[:, [0,2,6]].astype(float)\n",
    "mydata.head()"
   ]
  },
  {
   "cell_type": "markdown",
   "metadata": {},
   "source": [
    "#### Adding percentage UnInsured column "
   ]
  },
  {
   "cell_type": "code",
   "execution_count": 48,
   "metadata": {},
   "outputs": [
    {
     "data": {
      "text/html": [
       "<div>\n",
       "<style scoped>\n",
       "    .dataframe tbody tr th:only-of-type {\n",
       "        vertical-align: middle;\n",
       "    }\n",
       "\n",
       "    .dataframe tbody tr th {\n",
       "        vertical-align: top;\n",
       "    }\n",
       "\n",
       "    .dataframe thead th {\n",
       "        text-align: right;\n",
       "    }\n",
       "</style>\n",
       "<table border=\"1\" class=\"dataframe\">\n",
       "  <thead>\n",
       "    <tr style=\"text-align: right;\">\n",
       "      <th></th>\n",
       "      <th>NIC_PT</th>\n",
       "      <th>NUI_PT</th>\n",
       "      <th>SAEPOVRTALL_PT</th>\n",
       "      <th>uninsured_prctn</th>\n",
       "    </tr>\n",
       "  </thead>\n",
       "  <tbody>\n",
       "    <tr>\n",
       "      <th>0</th>\n",
       "      <td>38474.0</td>\n",
       "      <td>5880.0</td>\n",
       "      <td>10.7</td>\n",
       "      <td>13.256978</td>\n",
       "    </tr>\n",
       "    <tr>\n",
       "      <th>1</th>\n",
       "      <td>120301.0</td>\n",
       "      <td>23631.0</td>\n",
       "      <td>9.9</td>\n",
       "      <td>16.418170</td>\n",
       "    </tr>\n",
       "    <tr>\n",
       "      <th>2</th>\n",
       "      <td>18370.0</td>\n",
       "      <td>3934.0</td>\n",
       "      <td>24.5</td>\n",
       "      <td>17.638092</td>\n",
       "    </tr>\n",
       "    <tr>\n",
       "      <th>3</th>\n",
       "      <td>14321.0</td>\n",
       "      <td>3147.0</td>\n",
       "      <td>18.5</td>\n",
       "      <td>18.015800</td>\n",
       "    </tr>\n",
       "    <tr>\n",
       "      <th>4</th>\n",
       "      <td>39426.0</td>\n",
       "      <td>9482.0</td>\n",
       "      <td>13.1</td>\n",
       "      <td>19.387421</td>\n",
       "    </tr>\n",
       "  </tbody>\n",
       "</table>\n",
       "</div>"
      ],
      "text/plain": [
       "     NIC_PT   NUI_PT  SAEPOVRTALL_PT  uninsured_prctn\n",
       "0   38474.0   5880.0            10.7        13.256978\n",
       "1  120301.0  23631.0             9.9        16.418170\n",
       "2   18370.0   3934.0            24.5        17.638092\n",
       "3   14321.0   3147.0            18.5        18.015800\n",
       "4   39426.0   9482.0            13.1        19.387421"
      ]
     },
     "execution_count": 48,
     "metadata": {},
     "output_type": "execute_result"
    }
   ],
   "source": [
    "mydata['uninsured_prctn'] = mydata['NUI_PT']/(mydata['NUI_PT'] + mydata['NIC_PT'])*100\n",
    "mydata.head()"
   ]
  },
  {
   "cell_type": "markdown",
   "metadata": {},
   "source": [
    "#### \"X\" FEATURE (% POVERTY) , column 3(index 2). Make a numpy array"
   ]
  },
  {
   "cell_type": "code",
   "execution_count": 60,
   "metadata": {},
   "outputs": [
    {
     "data": {
      "text/plain": [
       "array([[10.7],\n",
       "       [ 9.9],\n",
       "       [24.5],\n",
       "       ...,\n",
       "       [10.6],\n",
       "       [13.1],\n",
       "       [10.7]])"
      ]
     },
     "execution_count": 60,
     "metadata": {},
     "output_type": "execute_result"
    }
   ],
   "source": [
    "X = mydata.iloc[:,[2]].values\n",
    "X"
   ]
  },
  {
   "cell_type": "markdown",
   "metadata": {},
   "source": [
    "#### \"y\" TARGET(% UNINSURED) , column 4(index 3), make a numpy array"
   ]
  },
  {
   "cell_type": "code",
   "execution_count": 61,
   "metadata": {},
   "outputs": [
    {
     "data": {
      "text/plain": [
       "array([[13.25697795],\n",
       "       [16.41816969],\n",
       "       [17.63809182],\n",
       "       ...,\n",
       "       [12.56897609],\n",
       "       [16.70822943],\n",
       "       [14.35218325]])"
      ]
     },
     "execution_count": 61,
     "metadata": {},
     "output_type": "execute_result"
    }
   ],
   "source": [
    "#y = mydata.iloc[:,3].values\n",
    "y = mydata.iloc[:,[3]].values\n",
    "y"
   ]
  },
  {
   "cell_type": "markdown",
   "metadata": {},
   "source": [
    "#### Find correlation between Poverty and Uninsured, using Python \"corr\" function.\n",
    "#### Corelations are from -1 to +1 (-1 means -ve corelation, +1 means +ve corelation)\n",
    "#### Based on the corelation results below there appears to be a 42% corelation between % Poverty and % Uninsured "
   ]
  },
  {
   "cell_type": "code",
   "execution_count": 62,
   "metadata": {},
   "outputs": [
    {
     "data": {
      "text/html": [
       "<div>\n",
       "<style scoped>\n",
       "    .dataframe tbody tr th:only-of-type {\n",
       "        vertical-align: middle;\n",
       "    }\n",
       "\n",
       "    .dataframe tbody tr th {\n",
       "        vertical-align: top;\n",
       "    }\n",
       "\n",
       "    .dataframe thead th {\n",
       "        text-align: right;\n",
       "    }\n",
       "</style>\n",
       "<table border=\"1\" class=\"dataframe\">\n",
       "  <thead>\n",
       "    <tr style=\"text-align: right;\">\n",
       "      <th></th>\n",
       "      <th>SAEPOVRTALL_PT</th>\n",
       "      <th>uninsured_prctn</th>\n",
       "    </tr>\n",
       "  </thead>\n",
       "  <tbody>\n",
       "    <tr>\n",
       "      <th>SAEPOVRTALL_PT</th>\n",
       "      <td>1.000000</td>\n",
       "      <td>0.421399</td>\n",
       "    </tr>\n",
       "    <tr>\n",
       "      <th>uninsured_prctn</th>\n",
       "      <td>0.421399</td>\n",
       "      <td>1.000000</td>\n",
       "    </tr>\n",
       "  </tbody>\n",
       "</table>\n",
       "</div>"
      ],
      "text/plain": [
       "                 SAEPOVRTALL_PT  uninsured_prctn\n",
       "SAEPOVRTALL_PT         1.000000         0.421399\n",
       "uninsured_prctn        0.421399         1.000000"
      ]
     },
     "execution_count": 62,
     "metadata": {},
     "output_type": "execute_result"
    }
   ],
   "source": [
    "mydata.iloc[:,[2,3]].corr()"
   ]
  },
  {
   "cell_type": "markdown",
   "metadata": {},
   "source": [
    "#### Adding Log of poverty and uninsured Transformation to the dataframe\n",
    "#### Based on results below the corelation now is 47 %"
   ]
  },
  {
   "cell_type": "code",
   "execution_count": 63,
   "metadata": {},
   "outputs": [
    {
     "data": {
      "text/html": [
       "<div>\n",
       "<style scoped>\n",
       "    .dataframe tbody tr th:only-of-type {\n",
       "        vertical-align: middle;\n",
       "    }\n",
       "\n",
       "    .dataframe tbody tr th {\n",
       "        vertical-align: top;\n",
       "    }\n",
       "\n",
       "    .dataframe thead th {\n",
       "        text-align: right;\n",
       "    }\n",
       "</style>\n",
       "<table border=\"1\" class=\"dataframe\">\n",
       "  <thead>\n",
       "    <tr style=\"text-align: right;\">\n",
       "      <th></th>\n",
       "      <th>Log_uninsured_prctn</th>\n",
       "      <th>Log_SAEPOVRTALL_PT</th>\n",
       "    </tr>\n",
       "  </thead>\n",
       "  <tbody>\n",
       "    <tr>\n",
       "      <th>Log_uninsured_prctn</th>\n",
       "      <td>1.00000</td>\n",
       "      <td>0.47062</td>\n",
       "    </tr>\n",
       "    <tr>\n",
       "      <th>Log_SAEPOVRTALL_PT</th>\n",
       "      <td>0.47062</td>\n",
       "      <td>1.00000</td>\n",
       "    </tr>\n",
       "  </tbody>\n",
       "</table>\n",
       "</div>"
      ],
      "text/plain": [
       "                     Log_uninsured_prctn  Log_SAEPOVRTALL_PT\n",
       "Log_uninsured_prctn              1.00000             0.47062\n",
       "Log_SAEPOVRTALL_PT               0.47062             1.00000"
      ]
     },
     "execution_count": 63,
     "metadata": {},
     "output_type": "execute_result"
    }
   ],
   "source": [
    "mydata['Log_uninsured_prctn'] = np.log(mydata['uninsured_prctn'])\n",
    "mydata['Log_SAEPOVRTALL_PT'] = np.log(mydata['SAEPOVRTALL_PT'])\n",
    "mydata.iloc[:,[4,5]].corr()"
   ]
  },
  {
   "cell_type": "code",
   "execution_count": 64,
   "metadata": {},
   "outputs": [],
   "source": [
    "mydata.to_csv('project_data_NONEED.csv')"
   ]
  },
  {
   "cell_type": "markdown",
   "metadata": {},
   "source": [
    "#### Applying ML methodologies. Split the data into two groups Train and Test"
   ]
  },
  {
   "cell_type": "code",
   "execution_count": 65,
   "metadata": {},
   "outputs": [
    {
     "data": {
      "text/plain": [
       "array([[16.1],\n",
       "       [27.1],\n",
       "       [18.9],\n",
       "       ...,\n",
       "       [38.2],\n",
       "       [20.6],\n",
       "       [28.7]])"
      ]
     },
     "execution_count": 65,
     "metadata": {},
     "output_type": "execute_result"
    }
   ],
   "source": [
    "X_train, X_test, y_train, y_test = train_test_split(X, y, test_size=0.50, random_state=50)\n",
    "X_test"
   ]
  },
  {
   "cell_type": "markdown",
   "metadata": {},
   "source": [
    "#### Create a Linear Regression Object"
   ]
  },
  {
   "cell_type": "code",
   "execution_count": 66,
   "metadata": {},
   "outputs": [],
   "source": [
    "lr = LinearRegression()"
   ]
  },
  {
   "cell_type": "markdown",
   "metadata": {},
   "source": [
    "#### Train the model"
   ]
  },
  {
   "cell_type": "code",
   "execution_count": 67,
   "metadata": {},
   "outputs": [
    {
     "data": {
      "text/plain": [
       "LinearRegression(copy_X=True, fit_intercept=True, n_jobs=1, normalize=False)"
      ]
     },
     "execution_count": 67,
     "metadata": {},
     "output_type": "execute_result"
    }
   ],
   "source": [
    "lr.fit(X_train, y_train)"
   ]
  },
  {
   "cell_type": "markdown",
   "metadata": {},
   "source": [
    "#### Accuracy of the test data"
   ]
  },
  {
   "cell_type": "code",
   "execution_count": 68,
   "metadata": {},
   "outputs": [
    {
     "data": {
      "text/plain": [
       "0.17529509912152896"
      ]
     },
     "execution_count": 68,
     "metadata": {},
     "output_type": "execute_result"
    }
   ],
   "source": [
    "#lr.score(X_train, y_train) which one to use for r2 score : train or test\n",
    "lr.score(X_test, y_test) "
   ]
  },
  {
   "cell_type": "markdown",
   "metadata": {},
   "source": [
    "#### Predict (uninsured) based on the known Poverty data"
   ]
  },
  {
   "cell_type": "code",
   "execution_count": 69,
   "metadata": {},
   "outputs": [
    {
     "data": {
      "text/plain": [
       "array([[15.99123894],\n",
       "       [20.44251627],\n",
       "       [17.12429135],\n",
       "       ...,\n",
       "       [24.93425976],\n",
       "       [17.81221603],\n",
       "       [21.08997479]])"
      ]
     },
     "execution_count": 69,
     "metadata": {},
     "output_type": "execute_result"
    }
   ],
   "source": [
    "#### Predicted values(should this be with test data , train data or original data)\n",
    "#y_pred = lr.predict(X)\n",
    "y_pred = lr.predict(X_test)\n",
    "y_pred"
   ]
  },
  {
   "cell_type": "code",
   "execution_count": null,
   "metadata": {},
   "outputs": [],
   "source": [
    "#### Scatter plot uninsured_percent and poverty_percent\n",
    "#### Non Logarithmic data values"
   ]
  },
  {
   "cell_type": "code",
   "execution_count": 74,
   "metadata": {},
   "outputs": [
    {
     "data": {
      "text/plain": [
       "Text(0.5,1,'Scatter Plot Uninsured vs Poverty(Non Logarithmic data)')"
      ]
     },
     "execution_count": 74,
     "metadata": {},
     "output_type": "execute_result"
    },
    {
     "data": {
      "image/png": "[encoded data removed]",
      "text/plain": [
       "<Figure size 864x576 with 1 Axes>"
      ]
     },
     "metadata": {},
     "output_type": "display_data"
    }
   ],
   "source": [
    "plt.figure(figsize=(12,8))\n",
    "#plt.plot(X, y, 'bo')\n",
    "plt.plot(X_test, y_test, 'bo', alpha = 0.5)\n",
    "plt.plot(X_test,y_pred, 'r-')\n",
    "plt.xlabel('Percentage of Poverty')\n",
    "plt.ylabel('Percentage of Uninsured')\n",
    "plt.title('Scatter Plot Uninsured vs Poverty(Non Logarithmic data)')"
   ]
  },
  {
   "cell_type": "code",
   "execution_count": null,
   "metadata": {},
   "outputs": [],
   "source": [
    "#### Histogram of Non Log poverty and Uninsured , notice long tail"
   ]
  },
  {
   "cell_type": "code",
   "execution_count": 76,
   "metadata": {},
   "outputs": [
    {
     "data": {
      "text/plain": [
       "<matplotlib.legend.Legend at 0x23eae86a860>"
      ]
     },
     "execution_count": 76,
     "metadata": {},
     "output_type": "execute_result"
    },
    {
     "data": {
      "image/png": "[encoded data removed]",
      "text/plain": [
       "<Figure size 864x576 with 1 Axes>"
      ]
     },
     "metadata": {},
     "output_type": "display_data"
    }
   ],
   "source": [
    "plt.figure(figsize=(12,8))\n",
    "#plt.hist(X, bins=20, density=True, label='Poverty', alpha = 0.5)\n",
    "#plt.hist(y, bins=20, density=True, label='Uninsured', alpha = 0.5)\n",
    "plt.hist(X_test, bins=20, density=True, label='Poverty', alpha = 0.5)\n",
    "plt.hist(y_test, bins=20, density=True, label='Uninsured', alpha = 0.5)\n",
    "plt.title('Histogram Uninsured vs Poverty(Non Logarithmic data)')\n",
    "plt.legend()"
   ]
  },
  {
   "cell_type": "markdown",
   "metadata": {},
   "source": [
    "#### Scatter plot of the LOGARITHMIC values of Uninsured vs Poverty"
   ]
  },
  {
   "cell_type": "code",
   "execution_count": 77,
   "metadata": {},
   "outputs": [],
   "source": [
    "X_log = np.log(X_test)\n",
    "y_log = np.log(y_test)"
   ]
  },
  {
   "cell_type": "code",
   "execution_count": null,
   "metadata": {},
   "outputs": [],
   "source": [
    "# Why this step\n",
    "#X_log = np.log(X_test)\n",
    "#y_log = np.log(y_test)\n",
    "plt.figure(figsize=(12,8))\n",
    "plt.plot(X_log, y_log, 'bo')\n",
    "plt.xlabel('% Poverty')\n",
    "plt.ylabel('% Uninsured')\n",
    "plt.title('Log Scatter Uninsured vs Poverty')"
   ]
  },
  {
   "cell_type": "markdown",
   "metadata": {},
   "source": [
    "#### Histogram of the LOG values of Uninsured vs Poverty, shape is closer to a Bell Curve"
   ]
  },
  {
   "cell_type": "code",
   "execution_count": null,
   "metadata": {},
   "outputs": [],
   "source": [
    "plt.figure(figsize=(12,8))\n",
    "plt.hist(X_log, bins=20, density=True, label='log(Poverty)', alpha = 0.5)\n",
    "plt.hist(y_log, bins=20, density=True, label='log(Uninsured)', alpha = 0.5)\n",
    "plt.title('Histogram of the LOG values of Uninsured vs Poverty')\n",
    "plt.legend()"
   ]
  },
  {
   "cell_type": "markdown",
   "metadata": {},
   "source": [
    "#### Split the LOG data into test and train"
   ]
  },
  {
   "cell_type": "code",
   "execution_count": 78,
   "metadata": {},
   "outputs": [],
   "source": [
    "X_log_train, X_log_test, y_log_train, y_log_test = \\\n",
    "        train_test_split(X_log, y_log, test_size=0.70, random_state=50)"
   ]
  },
  {
   "cell_type": "code",
   "execution_count": 79,
   "metadata": {},
   "outputs": [
    {
     "data": {
      "text/plain": [
       "array([[3.02042489],\n",
       "       [2.20827441],\n",
       "       [2.67414865],\n",
       "       ...,\n",
       "       [2.28238239],\n",
       "       [3.13113691],\n",
       "       [2.89591194]])"
      ]
     },
     "execution_count": 79,
     "metadata": {},
     "output_type": "execute_result"
    }
   ],
   "source": [
    "X_log_test"
   ]
  },
  {
   "cell_type": "markdown",
   "metadata": {},
   "source": [
    "#### Create a Linear Regression Object"
   ]
  },
  {
   "cell_type": "code",
   "execution_count": 80,
   "metadata": {},
   "outputs": [],
   "source": [
    "lr = LinearRegression()"
   ]
  },
  {
   "cell_type": "markdown",
   "metadata": {},
   "source": [
    "#### Train the model"
   ]
  },
  {
   "cell_type": "code",
   "execution_count": 81,
   "metadata": {},
   "outputs": [
    {
     "data": {
      "text/plain": [
       "LinearRegression(copy_X=True, fit_intercept=True, n_jobs=1, normalize=False)"
      ]
     },
     "execution_count": 81,
     "metadata": {},
     "output_type": "execute_result"
    }
   ],
   "source": [
    "lr.fit(X_log_train, y_log_train)"
   ]
  },
  {
   "cell_type": "code",
   "execution_count": 86,
   "metadata": {},
   "outputs": [
    {
     "data": {
      "text/plain": [
       "0.2257854021649952"
      ]
     },
     "execution_count": 86,
     "metadata": {},
     "output_type": "execute_result"
    }
   ],
   "source": [
    "lr.score(X_log_test, y_log_test)"
   ]
  },
  {
   "cell_type": "code",
   "execution_count": 89,
   "metadata": {},
   "outputs": [],
   "source": [
    "#y_log_pred = lr.predict(X_log_test) ###Graph does not plot with this!\n",
    "y_log_pred = lr.predict(X_log)  "
   ]
  },
  {
   "cell_type": "code",
   "execution_count": 92,
   "metadata": {},
   "outputs": [
    {
     "data": {
      "text/plain": [
       "Text(0.5,1,'Scatter of the LOG of Uninsured vs Poverty ')"
      ]
     },
     "execution_count": 92,
     "metadata": {},
     "output_type": "execute_result"
    },
    {
     "data": {
      "image/png": "[encoded data removed]",
      "text/plain": [
       "<Figure size 864x576 with 1 Axes>"
      ]
     },
     "metadata": {},
     "output_type": "display_data"
    }
   ],
   "source": [
    "plt.figure(figsize=(12,8))\n",
    "plt.plot(X_log, y_log, 'bo')\n",
    "plt.plot(X_log,y_log_pred, 'r-')\n",
    "plt.xlabel('Percentage of Poverty')\n",
    "plt.ylabel('Percentage of Uninsured') \n",
    "plt.title('Scatter of the LOG of Uninsured vs Poverty ')"
   ]
  },
  {
   "cell_type": "code",
   "execution_count": 93,
   "metadata": {},
   "outputs": [
    {
     "data": {
      "text/plain": [
       "<matplotlib.legend.Legend at 0x23eaf8b17f0>"
      ]
     },
     "execution_count": 93,
     "metadata": {},
     "output_type": "execute_result"
    },
    {
     "data": {
      "image/png": "[encoded data removed]",
      "text/plain": [
       "<Figure size 864x576 with 1 Axes>"
      ]
     },
     "metadata": {},
     "output_type": "display_data"
    }
   ],
   "source": [
    "plt.figure(figsize=(12,8))\n",
    "plt.hist(X_log_test, bins=20, density=True, label='log(Poverty)', alpha = 0.5)\n",
    "plt.hist(y_log_test, bins=20, density=True, label='log(Uninsured)', alpha = 0.5)\n",
    "plt.title('Histogram of the LOG values of Uninsured vs Poverty')\n",
    "plt.legend()"
   ]
  },
  {
   "cell_type": "markdown",
   "metadata": {},
   "source": [
    "## Final Analysis of the Univariant Linear Regression \n",
    "#### We see a positive correlation between % of poverty and % of uninsured people. It means that\n",
    "#### there is a direct relationship between these two parameters. In other words, if % of poverty\n",
    "#### goes up, the % of unisnured people is also goes up. However, the correlation value is only 0.42 (linear) to 0.47 (logarithmic)\n",
    "#### which means the correlation is fairly strong. Also from the regression R2, we get 0.17(linear) to 0.22 (log) \n",
    "#### which is not very good. Therefore, it seems modeling the exact % of uninsured people from % of poverty is difficult, but\n",
    "#### the graph and correlation show a positive relationship."
   ]
  },
  {
   "cell_type": "code",
   "execution_count": null,
   "metadata": {},
   "outputs": [],
   "source": []
  }
 ],
 "metadata": {
  "kernelspec": {
   "display_name": "Python 3",
   "language": "python",
   "name": "python3"
  },
  "language_info": {
   "codemirror_mode": {
    "name": "ipython",
    "version": 3
   },
   "file_extension": ".py",
   "mimetype": "text/x-python",
   "name": "python",
   "nbconvert_exporter": "python",
   "pygments_lexer": "ipython3",
   "version": "3.6.5"
  }
 },
 "nbformat": 4,
 "nbformat_minor": 2
}
